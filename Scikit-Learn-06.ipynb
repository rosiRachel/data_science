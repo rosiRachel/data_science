{
 "cells": [
  {
   "cell_type": "markdown",
   "id": "94c06589",
   "metadata": {},
   "source": [
    "Refression dengan KNN (K Nearest Neighbours)"
   ]
  },
  {
   "cell_type": "code",
   "execution_count": 2,
   "id": "a622f706",
   "metadata": {},
   "outputs": [
    {
     "data": {
      "text/html": [
       "<div>\n",
       "<style scoped>\n",
       "    .dataframe tbody tr th:only-of-type {\n",
       "        vertical-align: middle;\n",
       "    }\n",
       "\n",
       "    .dataframe tbody tr th {\n",
       "        vertical-align: top;\n",
       "    }\n",
       "\n",
       "    .dataframe thead th {\n",
       "        text-align: right;\n",
       "    }\n",
       "</style>\n",
       "<table border=\"1\" class=\"dataframe\">\n",
       "  <thead>\n",
       "    <tr style=\"text-align: right;\">\n",
       "      <th></th>\n",
       "      <th>tinggi</th>\n",
       "      <th>jk</th>\n",
       "      <th>berat</th>\n",
       "    </tr>\n",
       "  </thead>\n",
       "  <tbody>\n",
       "    <tr>\n",
       "      <th>0</th>\n",
       "      <td>158</td>\n",
       "      <td>pria</td>\n",
       "      <td>64</td>\n",
       "    </tr>\n",
       "    <tr>\n",
       "      <th>1</th>\n",
       "      <td>170</td>\n",
       "      <td>pria</td>\n",
       "      <td>86</td>\n",
       "    </tr>\n",
       "    <tr>\n",
       "      <th>2</th>\n",
       "      <td>183</td>\n",
       "      <td>pria</td>\n",
       "      <td>84</td>\n",
       "    </tr>\n",
       "    <tr>\n",
       "      <th>3</th>\n",
       "      <td>191</td>\n",
       "      <td>pria</td>\n",
       "      <td>80</td>\n",
       "    </tr>\n",
       "    <tr>\n",
       "      <th>4</th>\n",
       "      <td>155</td>\n",
       "      <td>wanita</td>\n",
       "      <td>49</td>\n",
       "    </tr>\n",
       "    <tr>\n",
       "      <th>5</th>\n",
       "      <td>163</td>\n",
       "      <td>wanita</td>\n",
       "      <td>59</td>\n",
       "    </tr>\n",
       "    <tr>\n",
       "      <th>6</th>\n",
       "      <td>180</td>\n",
       "      <td>wanita</td>\n",
       "      <td>67</td>\n",
       "    </tr>\n",
       "    <tr>\n",
       "      <th>7</th>\n",
       "      <td>158</td>\n",
       "      <td>wanita</td>\n",
       "      <td>54</td>\n",
       "    </tr>\n",
       "    <tr>\n",
       "      <th>8</th>\n",
       "      <td>170</td>\n",
       "      <td>wanita</td>\n",
       "      <td>67</td>\n",
       "    </tr>\n",
       "  </tbody>\n",
       "</table>\n",
       "</div>"
      ],
      "text/plain": [
       "   tinggi      jk  berat\n",
       "0     158    pria     64\n",
       "1     170    pria     86\n",
       "2     183    pria     84\n",
       "3     191    pria     80\n",
       "4     155  wanita     49\n",
       "5     163  wanita     59\n",
       "6     180  wanita     67\n",
       "7     158  wanita     54\n",
       "8     170  wanita     67"
      ]
     },
     "execution_count": 2,
     "metadata": {},
     "output_type": "execute_result"
    }
   ],
   "source": [
    "import pandas as pd\n",
    "sensus = {'tinggi': [158, 170, 183, 191, 155, 163, 180, 158, 170], \n",
    "         'jk': ['pria', 'pria', 'pria', 'pria', 'wanita', 'wanita', 'wanita', 'wanita', 'wanita'],\n",
    "         'berat': [64, 86, 84, 80, 49, 59, 67, 54, 67]}\n",
    "sensus_df = pd.DataFrame(sensus)\n",
    "sensus_df"
   ]
  },
  {
   "cell_type": "code",
   "execution_count": 3,
   "id": "99e9b7ac",
   "metadata": {},
   "outputs": [
    {
     "name": "stdout",
     "output_type": "stream",
     "text": [
      "x_train:\n",
      "[[158 'pria']\n",
      " [170 'pria']\n",
      " [183 'pria']\n",
      " [191 'pria']\n",
      " [155 'wanita']\n",
      " [163 'wanita']\n",
      " [180 'wanita']\n",
      " [158 'wanita']\n",
      " [170 'wanita']]\n",
      "\n",
      "y_train: [64 86 84 80 49 59 67 54 67]\n"
     ]
    }
   ],
   "source": [
    "import numpy as np\n",
    "x_train = np.array(sensus_df[['tinggi', 'jk']])\n",
    "y_train = np.array(sensus_df['berat'])\n",
    "print(f'x_train:\\n{x_train}\\n')\n",
    "print(f'y_train: {y_train}')"
   ]
  },
  {
   "cell_type": "code",
   "execution_count": 8,
   "id": "fb36acdd",
   "metadata": {},
   "outputs": [
    {
     "name": "stdout",
     "output_type": "stream",
     "text": [
      "x_train:\n",
      "[[158 'pria']\n",
      " [170 'pria']\n",
      " [183 'pria']\n",
      " [191 'pria']\n",
      " [155 'wanita']\n",
      " [163 'wanita']\n",
      " [180 'wanita']\n",
      " [158 'wanita']\n",
      " [170 'wanita']]\n",
      "\n",
      "x_train_transposed: [[158 170 183 191 155 163 180 158 170]\n",
      " ['pria' 'pria' 'pria' 'pria' 'wanita' 'wanita' 'wanita' 'wanita'\n",
      "  'wanita']]\n"
     ]
    }
   ],
   "source": [
    "x_train_transposed = np.transpose(x_train)\n",
    "print(f'x_train:\\n{x_train}\\n')\n",
    "print(f'x_train_transposed: {x_train_transposed}')"
   ]
  },
  {
   "cell_type": "code",
   "execution_count": 9,
   "id": "57603dbd",
   "metadata": {},
   "outputs": [
    {
     "name": "stdout",
     "output_type": "stream",
     "text": [
      "jk: ['pria' 'pria' 'pria' 'pria' 'wanita' 'wanita' 'wanita' 'wanita' 'wanita']\n",
      "\n",
      "jk_binarised:\n",
      "[[0]\n",
      " [0]\n",
      " [0]\n",
      " [0]\n",
      " [1]\n",
      " [1]\n",
      " [1]\n",
      " [1]\n",
      " [1]]\n"
     ]
    }
   ],
   "source": [
    "from sklearn.preprocessing import LabelBinarizer\n",
    "lb = LabelBinarizer()\n",
    "jk_binarised = lb.fit_transform(x_train_transposed[1])\n",
    "print(f'jk: {x_train_transposed[1]}\\n')\n",
    "print(f'jk_binarised:\\n{jk_binarised}')"
   ]
  },
  {
   "cell_type": "code",
   "execution_count": 10,
   "id": "9a7120aa",
   "metadata": {},
   "outputs": [
    {
     "data": {
      "text/plain": [
       "array([0, 0, 0, 0, 1, 1, 1, 1, 1])"
      ]
     },
     "execution_count": 10,
     "metadata": {},
     "output_type": "execute_result"
    }
   ],
   "source": [
    "jk_binarised = jk_binarised.flatten()\n",
    "jk_binarised"
   ]
  },
  {
   "cell_type": "code",
   "execution_count": 11,
   "id": "c1c59061",
   "metadata": {},
   "outputs": [
    {
     "name": "stdout",
     "output_type": "stream",
     "text": [
      "x_train_transposed:\n",
      "[[158 170 183 191 155 163 180 158 170]\n",
      " [0 0 0 0 1 1 1 1 1]]\n",
      "\n",
      "x_train:\n",
      "[[158 0]\n",
      " [170 0]\n",
      " [183 0]\n",
      " [191 0]\n",
      " [155 1]\n",
      " [163 1]\n",
      " [180 1]\n",
      " [158 1]\n",
      " [170 1]]\n"
     ]
    }
   ],
   "source": [
    "x_train_transposed[1] = jk_binarised\n",
    "x_train = x_train_transposed.transpose()\n",
    "print(f'x_train_transposed:\\n{x_train_transposed}\\n')\n",
    "print(f'x_train:\\n{x_train}')"
   ]
  },
  {
   "cell_type": "code",
   "execution_count": 12,
   "id": "60a25ec9",
   "metadata": {},
   "outputs": [
    {
     "data": {
      "text/plain": [
       "KNeighborsRegressor(n_neighbors=3)"
      ]
     },
     "execution_count": 12,
     "metadata": {},
     "output_type": "execute_result"
    }
   ],
   "source": [
    "from sklearn.neighbors import KNeighborsRegressor\n",
    "K = 3\n",
    "model = KNeighborsRegressor(n_neighbors=K)\n",
    "model.fit(x_train, y_train)"
   ]
  },
  {
   "cell_type": "code",
   "execution_count": 13,
   "id": "3344033f",
   "metadata": {},
   "outputs": [
    {
     "data": {
      "text/plain": [
       "array([[155,   1]])"
      ]
     },
     "execution_count": 13,
     "metadata": {},
     "output_type": "execute_result"
    }
   ],
   "source": [
    "x_new = np.array([[155, 1]])\n",
    "x_new"
   ]
  },
  {
   "cell_type": "code",
   "execution_count": 14,
   "id": "48c8f7bb",
   "metadata": {},
   "outputs": [
    {
     "data": {
      "text/plain": [
       "array([55.66666667])"
      ]
     },
     "execution_count": 14,
     "metadata": {},
     "output_type": "execute_result"
    }
   ],
   "source": [
    "y_pred = model.predict(x_new)\n",
    "y_pred"
   ]
  },
  {
   "cell_type": "code",
   "execution_count": 15,
   "id": "87358b9e",
   "metadata": {},
   "outputs": [
    {
     "name": "stdout",
     "output_type": "stream",
     "text": [
      "x_test:\n",
      "[[168   0]\n",
      " [180   0]\n",
      " [160   1]\n",
      " [169   1]]\n",
      "\n",
      "y_test: [65 96 52 67]\n"
     ]
    }
   ],
   "source": [
    "x_test = np.array([[168, 0], [180, 0], [160, 1], [169, 1]])\n",
    "y_test = np.array([65, 96, 52, 67])\n",
    "print(f'x_test:\\n{x_test}\\n')\n",
    "print(f'y_test: {y_test}')"
   ]
  },
  {
   "cell_type": "code",
   "execution_count": 16,
   "id": "33c993c1",
   "metadata": {},
   "outputs": [
    {
     "data": {
      "text/plain": [
       "array([70.66666667, 79.        , 59.        , 70.66666667])"
      ]
     },
     "execution_count": 16,
     "metadata": {},
     "output_type": "execute_result"
    }
   ],
   "source": [
    "y_pred = model.predict(x_test)\n",
    "y_pred"
   ]
  },
  {
   "cell_type": "code",
   "execution_count": 19,
   "id": "dc8680d4",
   "metadata": {},
   "outputs": [
    {
     "name": "stdout",
     "output_type": "stream",
     "text": [
      "R-square: 0.6290565226735438\n"
     ]
    }
   ],
   "source": [
    "from sklearn.metrics import r2_score\n",
    "r_squared = r2_score(y_test, y_pred)\n",
    "print(f'R-square: {r_squared}')"
   ]
  },
  {
   "cell_type": "code",
   "execution_count": 20,
   "id": "812091e4",
   "metadata": {},
   "outputs": [
    {
     "name": "stdout",
     "output_type": "stream",
     "text": [
      "MAE: 8.333333333333336\n"
     ]
    }
   ],
   "source": [
    "from sklearn.metrics import mean_absolute_error\n",
    "MAE = mean_absolute_error(y_test, y_pred)\n",
    "print(f'MAE: {MAE}')"
   ]
  },
  {
   "cell_type": "code",
   "execution_count": 21,
   "id": "75283235",
   "metadata": {},
   "outputs": [
    {
     "name": "stdout",
     "output_type": "stream",
     "text": [
      "MSE: 95.8888888888889\n"
     ]
    }
   ],
   "source": [
    "from sklearn.metrics import mean_squared_error\n",
    "MSE = mean_squared_error(y_test, y_pred)\n",
    "print(f'MSE: {MSE}')"
   ]
  },
  {
   "cell_type": "code",
   "execution_count": 29,
   "id": "a420638d",
   "metadata": {},
   "outputs": [
    {
     "data": {
      "text/plain": [
       "[60.0, 40.01249804748511]"
      ]
     },
     "execution_count": 29,
     "metadata": {},
     "output_type": "execute_result"
    }
   ],
   "source": [
    "from scipy.spatial.distance import euclidean\n",
    "\n",
    "# tinggi dalam milimeter\n",
    "x_train = np.array([[1700, 0], [1600, 1]])\n",
    "x_new = np.array([[1640, 0]])\n",
    "[euclidean(x_new[0], d) for d in x_train]"
   ]
  },
  {
   "cell_type": "code",
   "execution_count": 30,
   "id": "27d0912b",
   "metadata": {},
   "outputs": [
    {
     "data": {
      "text/plain": [
       "[0.06000000000000005, 1.0007996802557444]"
      ]
     },
     "execution_count": 30,
     "metadata": {},
     "output_type": "execute_result"
    }
   ],
   "source": [
    "#tinggi dalam meter\n",
    "x_train = np.array([[1.7, 0], [1.6, 1]])\n",
    "x_new = np.array([[1.64, 0]])\n",
    "[euclidean(x_new[0], d) for d in x_train]"
   ]
  },
  {
   "cell_type": "code",
   "execution_count": 31,
   "id": "fd93f29c",
   "metadata": {},
   "outputs": [],
   "source": [
    "from sklearn.preprocessing import StandardScaler\n",
    "ss = StandardScaler()"
   ]
  },
  {
   "cell_type": "code",
   "execution_count": 32,
   "id": "794f4c64",
   "metadata": {},
   "outputs": [
    {
     "name": "stdout",
     "output_type": "stream",
     "text": [
      "x_train_scaled:\n",
      "[[ 1. -1.]\n",
      " [-1.  1.]]\n",
      "\n",
      "x_new_scaled: [[-0.2 -1. ]]\n",
      "\n",
      "jarak: [1.2, 2.154065922853802]\n"
     ]
    }
   ],
   "source": [
    "#tinggi dalam milimeter\n",
    "x_train = np.array([[1700, 0], [1600, 1]])\n",
    "x_train_scaled = ss.fit_transform(x_train)\n",
    "print(f'x_train_scaled:\\n{x_train_scaled}\\n')\n",
    "\n",
    "x_new = np.array([[1640, 0]])\n",
    "x_new_scaled = ss.transform(x_new)\n",
    "print(f'x_new_scaled: {x_new_scaled}\\n')\n",
    "\n",
    "jarak = [euclidean(x_new_scaled[0], d) for d in x_train_scaled]\n",
    "print(f'jarak: {jarak}')"
   ]
  },
  {
   "cell_type": "code",
   "execution_count": 33,
   "id": "da280db6",
   "metadata": {},
   "outputs": [
    {
     "name": "stdout",
     "output_type": "stream",
     "text": [
      "x_train_scaled:\n",
      "[[ 1. -1.]\n",
      " [-1.  1.]]\n",
      "\n",
      "x_new_scaled: [[-0.2 -1. ]]\n",
      "\n",
      "jarak: [1.2000000000000026, 2.1540659228538006]\n"
     ]
    }
   ],
   "source": [
    "#tinggi dalam meter\n",
    "x_train = np.array([[1.7, 0], [1.6, 1]])\n",
    "x_train_scaled = ss.fit_transform(x_train)\n",
    "print(f'x_train_scaled:\\n{x_train_scaled}\\n')\n",
    "\n",
    "x_new = np.array([[1.64, 0]])\n",
    "x_new_scaled = ss.transform(x_new)\n",
    "print(f'x_new_scaled: {x_new_scaled}\\n')\n",
    "\n",
    "jarak = [euclidean(x_new_scaled[0], d) for d in x_train_scaled]\n",
    "print(f'jarak: {jarak}')"
   ]
  },
  {
   "cell_type": "code",
   "execution_count": 34,
   "id": "197e5450",
   "metadata": {},
   "outputs": [],
   "source": [
    "#training set\n",
    "x_train = np.array([[158, 0], [170, 0], [183, 0], [191, 0], [155, 1], [163, 1], [180, 1], [158, 1], [170, 1]])\n",
    "y_train = np.array([64, 86, 84, 80, 49, 59, 67, 54, 67])\n",
    "\n",
    "#test set\n",
    "x_test = np.array([[168, 0], [180, 0], [160, 1], [169, 1]])\n",
    "y_test = np.array([65, 96, 52, 67])"
   ]
  },
  {
   "cell_type": "code",
   "execution_count": 35,
   "id": "ad8cc069",
   "metadata": {},
   "outputs": [
    {
     "name": "stdout",
     "output_type": "stream",
     "text": [
      "x_train_scaled:\n",
      "[[-0.9908706  -1.11803399]\n",
      " [ 0.01869567 -1.11803399]\n",
      " [ 1.11239246 -1.11803399]\n",
      " [ 1.78543664 -1.11803399]\n",
      " [-1.24326216  0.89442719]\n",
      " [-0.57021798  0.89442719]\n",
      " [ 0.86000089  0.89442719]\n",
      " [-0.9908706   0.89442719]\n",
      " [ 0.01869567  0.89442719]]\n",
      "\n",
      "x_test_scaled:\n",
      "[[-0.17557375 -1.        ]\n",
      " [ 1.50993422 -1.        ]\n",
      " [-1.29924573  1.        ]\n",
      " [-0.03511475  1.        ]]\n",
      "\n"
     ]
    }
   ],
   "source": [
    "x_train_scaled = ss.fit_transform(x_train)\n",
    "x_test_scaled = ss.fit_transform(x_test)\n",
    "print(f'x_train_scaled:\\n{x_train_scaled}\\n')\n",
    "print(f'x_test_scaled:\\n{x_test_scaled}\\n')"
   ]
  },
  {
   "cell_type": "code",
   "execution_count": 37,
   "id": "5e783636",
   "metadata": {},
   "outputs": [
    {
     "name": "stdout",
     "output_type": "stream",
     "text": [
      "MAE: 7.583333333333336\n",
      "MSE: 85.13888888888893\n"
     ]
    }
   ],
   "source": [
    "model.fit(x_train_scaled, y_train)\n",
    "y_pred = model.predict(x_test_scaled)\n",
    "\n",
    "MAE = mean_absolute_error(y_test, y_pred)\n",
    "MSE = mean_squared_error(y_test, y_pred)\n",
    "\n",
    "print(f'MAE: {MAE}')\n",
    "print(f'MSE: {MSE}')"
   ]
  },
  {
   "cell_type": "code",
   "execution_count": null,
   "id": "ba36b21e",
   "metadata": {},
   "outputs": [],
   "source": []
  }
 ],
 "metadata": {
  "kernelspec": {
   "display_name": "Python 3 (ipykernel)",
   "language": "python",
   "name": "python3"
  },
  "language_info": {
   "codemirror_mode": {
    "name": "ipython",
    "version": 3
   },
   "file_extension": ".py",
   "mimetype": "text/x-python",
   "name": "python",
   "nbconvert_exporter": "python",
   "pygments_lexer": "ipython3",
   "version": "3.9.7"
  }
 },
 "nbformat": 4,
 "nbformat_minor": 5
}
